{
 "cells": [
  {
   "cell_type": "markdown",
   "id": "5e177f50",
   "metadata": {},
   "source": [
    "# Data  Science Tools and Ecosystem"
   ]
  },
  {
   "cell_type": "markdown",
   "id": "10a9db3b",
   "metadata": {},
   "source": [
    "In this notebook, Data Science Tools and Ecosystem are summerised. "
   ]
  },
  {
   "cell_type": "markdown",
   "id": "fa3630f1",
   "metadata": {},
   "source": [
    "**Objectives**\n",
    "- List\n",
    "- Popular Language for Data science\n",
    "- Commonly used libraries for data science"
   ]
  },
  {
   "cell_type": "markdown",
   "id": "47d09007",
   "metadata": {},
   "source": [
    "Some of the most popular Languages that Data Scientist uses are:\n",
    "1. Python\n",
    "2. Julia\n",
    "3. R\n",
    "4. SQL"
   ]
  },
  {
   "cell_type": "markdown",
   "id": "1fc3eff4",
   "metadata": {},
   "source": [
    "Some of the commonly used Libraries by Data Scientists includes:\n",
    "1. NumPy\n",
    "2. Pandas\n",
    "3. Seaborn\n",
    "4. Matplotlib"
   ]
  },
  {
   "cell_type": "markdown",
   "id": "716e33a6",
   "metadata": {},
   "source": [
    "|Data Science Tools|\n",
    "|:---: |\n",
    "|RStudio|\n",
    "|Python|\n",
    "|Excel|\n",
    "|Apache Spark|"
   ]
  },
  {
   "cell_type": "markdown",
   "id": "3553778f",
   "metadata": {},
   "source": [
    "### Below are a few examples of evaluating simple arithmetic expression in Python "
   ]
  },
  {
   "cell_type": "code",
   "execution_count": 1,
   "id": "ecc10a16",
   "metadata": {},
   "outputs": [
    {
     "data": {
      "text/plain": [
       "17"
      ]
     },
     "execution_count": 1,
     "metadata": {},
     "output_type": "execute_result"
    }
   ],
   "source": [
    "# This is a simple arithmetic expression to multiply then add integers \n",
    "(3*4)+5"
   ]
  },
  {
   "cell_type": "code",
   "execution_count": 2,
   "id": "8cccb6c2",
   "metadata": {},
   "outputs": [
    {
     "data": {
      "text/plain": [
       "3.3333333333333335"
      ]
     },
     "execution_count": 2,
     "metadata": {},
     "output_type": "execute_result"
    }
   ],
   "source": [
    "# This will convert 200 minutes to hours by dividing by 60\n",
    "200/60"
   ]
  },
  {
   "cell_type": "markdown",
   "id": "0e3f30f6",
   "metadata": {},
   "source": [
    "## Author: \n",
    "Umar Sani Muhammad"
   ]
  },
  {
   "cell_type": "code",
   "execution_count": null,
   "id": "93d44035",
   "metadata": {},
   "outputs": [],
   "source": []
  }
 ],
 "metadata": {
  "kernelspec": {
   "display_name": "Python",
   "language": "python",
   "name": "conda-env-python-py"
  },
  "language_info": {
   "codemirror_mode": {
    "name": "ipython",
    "version": 3
   },
   "file_extension": ".py",
   "mimetype": "text/x-python",
   "name": "python",
   "nbconvert_exporter": "python",
   "pygments_lexer": "ipython3",
   "version": "3.7.12"
  }
 },
 "nbformat": 4,
 "nbformat_minor": 5
}
